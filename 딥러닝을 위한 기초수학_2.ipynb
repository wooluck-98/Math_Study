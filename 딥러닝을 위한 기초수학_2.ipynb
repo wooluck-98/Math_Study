{
 "cells": [
  {
   "cell_type": "code",
   "execution_count": 1,
   "metadata": {},
   "outputs": [
    {
     "name": "stdout",
     "output_type": "stream",
     "text": [
      "[1, 1, 2, 3, 5, 8, 13, 21]\n"
     ]
    }
   ],
   "source": [
    "# 2-1 점화식으로 피보나치 수열 계산\n",
    "a = [0] * 8\n",
    "a[0] = 1\n",
    "a[1] = 1\n",
    "for i in range(2, 8):\n",
    "    a[i] = a[i - 1] + a[i - 2]\n",
    "\n",
    "print(a)"
   ]
  },
  {
   "cell_type": "code",
   "execution_count": 2,
   "metadata": {},
   "outputs": [
    {
     "name": "stdout",
     "output_type": "stream",
     "text": [
      "1717\n"
     ]
    }
   ],
   "source": [
    "# 2-4 리스트를 만들고 sum함수로 요소의 합 계산\n",
    "a = [i for i in range(1, 101, 3)]\n",
    "total = sum(a)\n",
    "print(total)"
   ]
  },
  {
   "cell_type": "code",
   "execution_count": 3,
   "metadata": {},
   "outputs": [
    {
     "name": "stdout",
     "output_type": "stream",
     "text": [
      "[1, 2, 3, 4, 5, 6, 7, 8, 9]\n"
     ]
    }
   ],
   "source": [
    "# 2-6 리스트 내포\n",
    "a = [x for x in range(1, 10)]\n",
    "print(a)"
   ]
  },
  {
   "cell_type": "code",
   "execution_count": 4,
   "metadata": {},
   "outputs": [
    {
     "name": "stdout",
     "output_type": "stream",
     "text": [
      "[[0, 1, 2], [1, 2, 3], [2, 3, 4], [3, 4, 5]]\n"
     ]
    }
   ],
   "source": [
    "# 2-7 리스트 내포로 2차원 리스트 생성\n",
    "b = [[i + j for i in range(3)] for j in range(4)]\n",
    "print(b)"
   ]
  },
  {
   "cell_type": "code",
   "execution_count": 5,
   "metadata": {},
   "outputs": [
    {
     "name": "stdout",
     "output_type": "stream",
     "text": [
      "[0, 0, 0, 0, 0, 0, 0]\n"
     ]
    }
   ],
   "source": [
    "a = [0] * 7\n",
    "print(a)"
   ]
  },
  {
   "cell_type": "code",
   "execution_count": 6,
   "metadata": {},
   "outputs": [
    {
     "name": "stdout",
     "output_type": "stream",
     "text": [
      "[[0, 0, 0], [0, 0, 0], [0, 0, 0], [0, 0, 0]]\n"
     ]
    }
   ],
   "source": [
    "b = [[0] *3] * 4\n",
    "print(b)"
   ]
  },
  {
   "cell_type": "code",
   "execution_count": 7,
   "metadata": {},
   "outputs": [
    {
     "name": "stdout",
     "output_type": "stream",
     "text": [
      "[[0, 0, 5], [0, 0, 5], [0, 0, 5], [0, 0, 5]]\n"
     ]
    }
   ],
   "source": [
    "b = [[0] *3] * 4\n",
    "b[1][2] = 5\n",
    "print(b)"
   ]
  },
  {
   "cell_type": "code",
   "execution_count": 8,
   "metadata": {},
   "outputs": [
    {
     "name": "stdout",
     "output_type": "stream",
     "text": [
      "[[0, 0, 0], [0, 0, 5], [0, 0, 0], [0, 0, 0]]\n"
     ]
    }
   ],
   "source": [
    "c = [[0 for i in range(3)] for j in range(4)]\n",
    "c[1][2] = 5\n",
    "print(c)"
   ]
  },
  {
   "cell_type": "code",
   "execution_count": 10,
   "metadata": {},
   "outputs": [
    {
     "name": "stdout",
     "output_type": "stream",
     "text": [
      "{2, 4, 5}\n",
      "{4}\n",
      "{2, 5}\n",
      "{2, 3, 4, 5, 6}\n"
     ]
    }
   ],
   "source": [
    "# 2-12 집합 타입의 연산\n",
    "a = set([2, 4, 5])\n",
    "b = set([3, 4, 6])\n",
    "print(a)\n",
    "print(a & b)\n",
    "print(a - b)\n",
    "print(a | b)"
   ]
  },
  {
   "cell_type": "code",
   "execution_count": 11,
   "metadata": {},
   "outputs": [
    {
     "name": "stdout",
     "output_type": "stream",
     "text": [
      "78.0\n"
     ]
    }
   ],
   "source": [
    "# 2-14 mean 함수로 리스트 요소의 평균값 계산\n",
    "import numpy as np\n",
    "\n",
    "data = [70, 91, 69, 78, 82]\n",
    "avg = np.mean(data)\n",
    "print(avg)"
   ]
  },
  {
   "cell_type": "code",
   "execution_count": 12,
   "metadata": {},
   "outputs": [
    {
     "name": "stdout",
     "output_type": "stream",
     "text": [
      "60.0\n",
      "434.4\n",
      "20.842264752180842\n"
     ]
    }
   ],
   "source": [
    "# 2-15분산과 표준편차를 함수로 만들어 계산\n",
    "import math\n",
    "\n",
    "def var(data):\n",
    "    avg = sum(data) / len(data)\n",
    "    total = 0\n",
    "    for i in data:\n",
    "        total += (avg - i) ** 2\n",
    "    return total / len(data)\n",
    "\n",
    "def std(data):\n",
    "    return math.sqrt(var(data))\n",
    "\n",
    "a = [72, 61, 91, 31, 45]\n",
    "\n",
    "print(sum(a) / len(a))\n",
    "print(var(a))\n",
    "print(std(a))"
   ]
  },
  {
   "cell_type": "code",
   "execution_count": 13,
   "metadata": {},
   "outputs": [
    {
     "name": "stdout",
     "output_type": "stream",
     "text": [
      "434.4\n",
      "20.842264752180842\n"
     ]
    }
   ],
   "source": [
    "# 2-16 넘파이로 분산과 표준편차 계산\n",
    "import numpy as np\n",
    "\n",
    "a = [72, 61, 91, 31, 45]\n",
    "\n",
    "print(np.var(a))\n",
    "print(np.std(a))"
   ]
  },
  {
   "cell_type": "code",
   "execution_count": 14,
   "metadata": {},
   "outputs": [
    {
     "name": "stdout",
     "output_type": "stream",
     "text": [
      "[-0.48053723  1.26687088 -1.5726673  -0.0436852   0.83001885]\n",
      "[-0.48053723  1.26687088 -1.5726673  -0.0436852   0.83001885]\n"
     ]
    }
   ],
   "source": [
    "# 2-18 데이터의 표준값 계산\n",
    "import numpy as np\n",
    "\n",
    "a = [173, 181, 168, 175, 179]\n",
    "b = [1.73, 1.81, 1.68, 1.75, 1.79]\n",
    "\n",
    "def standardize(x):\n",
    "    return (x - np.mean(x)) / np.std(x)\n",
    "\n",
    "print(standardize(a))\n",
    "print(standardize(b))"
   ]
  },
  {
   "cell_type": "code",
   "execution_count": 16,
   "metadata": {},
   "outputs": [
    {
     "name": "stdout",
     "output_type": "stream",
     "text": [
      "0.2070950477571163\n",
      "0.7692338289088531\n",
      "0.491692412735787\n"
     ]
    }
   ],
   "source": [
    "# 2-19 random 난수 생성\n",
    "import random\n",
    "\n",
    "print(random.random())\n",
    "print(random.random())\n",
    "print(random.random())"
   ]
  },
  {
   "cell_type": "code",
   "execution_count": 17,
   "metadata": {},
   "outputs": [
    {
     "name": "stdout",
     "output_type": "stream",
     "text": [
      "Counter({1: 110, 8: 109, 2: 106, 6: 100, 5: 99, 7: 98, 9: 98, 0: 94, 4: 94, 3: 92})\n"
     ]
    }
   ],
   "source": [
    "# 2-20 생성한 난수가 균등분포인지 확인\n",
    "import random\n",
    "import collections\n",
    "import math\n",
    "\n",
    "r = []\n",
    "for i in range(1000):\n",
    "    r.append(random.random())\n",
    "\n",
    "print(collections.Counter([math.floor(x*10) for x in r]))"
   ]
  },
  {
   "cell_type": "code",
   "execution_count": 28,
   "metadata": {},
   "outputs": [
    {
     "name": "stdout",
     "output_type": "stream",
     "text": [
      "평균 : -0.02050927628424694\n",
      "표준 편차 : 1.0489519097693534\n"
     ]
    }
   ],
   "source": [
    "# 2-21 정규분포난수를 생성하고 평균과 표준편차 계산\n",
    "import numpy as np\n",
    "\n",
    "n = np.random.randn(1000)\n",
    "\n",
    "print(\"평균 :\", np.mean(n))\n",
    "print(\"표준 편차 :\", np.std(n))"
   ]
  },
  {
   "cell_type": "code",
   "execution_count": 39,
   "metadata": {},
   "outputs": [
    {
     "name": "stdin",
     "output_type": "stream",
     "text": [
      " 80\n",
      " 78\n",
      " 84\n",
      " 69\n",
      " 77\n",
      " 73\n",
      " 88\n",
      " 64\n",
      " 91\n",
      " 72\n",
      " 75\n",
      " 62\n",
      " 90\n",
      " 83\n",
      " 92\n",
      " 60\n",
      " 76\n",
      " 89\n",
      " 68\n",
      " 70\n"
     ]
    },
    {
     "name": "stdout",
     "output_type": "stream",
     "text": [
      "[53.04841382 50.98169259 57.18185629 41.68144703 49.94833197 45.8148895\n",
      " 61.31529876 36.51464394 64.41538061 44.78152888 47.88161073 34.44792271\n",
      " 63.38201999 56.14849567 65.44874123 32.38120148 48.91497135 62.34865938\n",
      " 40.64808641 42.71480765]\n"
     ]
    }
   ],
   "source": [
    "# 연습문제 03\n",
    "import numpy as np\n",
    "\n",
    "num = []\n",
    "dev = 0\n",
    "\n",
    "for i in range(20):\n",
    "    num.append(int(input()))\n",
    "\n",
    "def standard_score(x):\n",
    "    return (x - np.mean(x)) / np.std(x)\n",
    "\n",
    "print(standard_score(num) * 10 + 50)"
   ]
  },
  {
   "cell_type": "code",
   "execution_count": 50,
   "metadata": {},
   "outputs": [
    {
     "name": "stdout",
     "output_type": "stream",
     "text": [
      "3.144\n"
     ]
    }
   ],
   "source": [
    "# 연습 문제 04\n",
    "import random\n",
    "\n",
    "x = []\n",
    "y = []\n",
    "cnt = 0\n",
    "n = 1000\n",
    "for i in range(n):\n",
    "    x.append(random.random())\n",
    "    y.append(random.random())\n",
    "    \n",
    "    if ((x[i] ** 2 + y[i] ** 2) <= 1):\n",
    "        cnt += 1\n",
    "\n",
    "print(cnt / n * 4)"
   ]
  }
 ],
 "metadata": {
  "kernelspec": {
   "display_name": "Python 3",
   "language": "python",
   "name": "python3"
  },
  "language_info": {
   "codemirror_mode": {
    "name": "ipython",
    "version": 3
   },
   "file_extension": ".py",
   "mimetype": "text/x-python",
   "name": "python",
   "nbconvert_exporter": "python",
   "pygments_lexer": "ipython3",
   "version": "3.8.5"
  }
 },
 "nbformat": 4,
 "nbformat_minor": 4
}
