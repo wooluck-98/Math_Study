{
 "cells": [
  {
   "cell_type": "markdown",
   "metadata": {},
   "source": [
    "# Chapter 1"
   ]
  },
  {
   "cell_type": "code",
   "execution_count": 5,
   "metadata": {},
   "outputs": [
    {
     "name": "stdout",
     "output_type": "stream",
     "text": [
      "result :  0.9733333333333334\n"
     ]
    }
   ],
   "source": [
    "from sklearn.datasets import load_iris\n",
    "from sklearn.model_selection import train_test_split\n",
    "from sklearn.neural_network import MLPClassifier\n",
    "\n",
    "# 붓꽃 데이터 세트 검색\n",
    "iris = load_iris()\n",
    "x, y = iris.data, iris.target\n",
    "\n",
    "# train / test 데이터 나누기\n",
    "x_train, x_test, y_train, y_test = train_test_split(x, y, test_size = 0.5, random_state = 0)\n",
    "\n",
    "# 초기화\n",
    "nn = MLPClassifier(solver = \"sgd\", random_state = 0, max_iter = 10000)\n",
    "\n",
    "# 학습\n",
    "nn.fit(x_train, y_train)\n",
    "\n",
    "# 결과(정확도) 확인\n",
    "print(\"result : \" , nn.score(x_test, y_test))"
   ]
  },
  {
   "cell_type": "code",
   "execution_count": 8,
   "metadata": {},
   "outputs": [
    {
     "name": "stdout",
     "output_type": "stream",
     "text": [
      "1월 January\n",
      "2월 February\n",
      "3월 March\n",
      "4월 April\n",
      "5월 May\n",
      "6월 June\n",
      "7월 July\n",
      "8월 August\n",
      "9월 September\n",
      "10월 October\n",
      "11월 November\n",
      "12월 December\n"
     ]
    }
   ],
   "source": [
    "#연습 문제 1\n",
    "month = [\"January\", \"February\", \"March\", \"April\", \"May\", \"June\", \"July\", \"August\",\n",
    "        \"September\", \"October\", \"November\", \"December\"]\n",
    "\n",
    "for i in range(1, 13):\n",
    "    print(str(i)+\"월\", month[i-1])"
   ]
  },
  {
   "cell_type": "code",
   "execution_count": 17,
   "metadata": {},
   "outputs": [
    {
     "name": "stdout",
     "output_type": "stream",
     "text": [
      "1 스페이드 A\n",
      "2 스페이드 2\n",
      "3 스페이드 3\n",
      "4 스페이드 4\n",
      "5 스페이드 5\n",
      "6 스페이드 6\n",
      "7 스페이드 7\n",
      "8 스페이드 8\n",
      "9 스페이드 9\n",
      "10 스페이드 10\n",
      "11 스페이드 J\n",
      "12 스페이드 Q\n",
      "13 스페이드 K\n",
      "14 하트 A\n",
      "15 하트 2\n",
      "16 하트 3\n",
      "17 하트 4\n",
      "18 하트 5\n",
      "19 하트 6\n",
      "20 하트 7\n",
      "21 하트 8\n",
      "22 하트 9\n",
      "23 하트 10\n",
      "24 하트 J\n",
      "25 하트 Q\n",
      "26 하트 K\n",
      "27 다이아몬드 A\n",
      "28 다이아몬드 2\n",
      "29 다이아몬드 3\n",
      "30 다이아몬드 4\n",
      "31 다이아몬드 5\n",
      "32 다이아몬드 6\n",
      "33 다이아몬드 7\n",
      "34 다이아몬드 8\n",
      "35 다이아몬드 9\n",
      "36 다이아몬드 10\n",
      "37 다이아몬드 J\n",
      "38 다이아몬드 Q\n",
      "39 다이아몬드 K\n",
      "40 클로버 A\n",
      "41 클로버 2\n",
      "42 클로버 3\n",
      "43 클로버 4\n",
      "44 클로버 5\n",
      "45 클로버 6\n",
      "46 클로버 7\n",
      "47 클로버 8\n",
      "48 클로버 9\n",
      "49 클로버 10\n",
      "50 클로버 J\n",
      "51 클로버 Q\n",
      "52 클로버 K\n"
     ]
    }
   ],
   "source": [
    "#연습 문제 2\n",
    "card_num = {1 : \"A\", 2 : 2, 3 : 3, 4 : 4, 5 : 5, 6 : 6, 7 : 7,\n",
    "           8 : 8, 9 : 9, 10 : 10, 11 : \"J\", 12 : \"Q\", 0 : \"K\"}\n",
    "\n",
    "for i in range(1, 53):\n",
    "    if i <= 13:\n",
    "        card_shape = \"스페이드\"\n",
    "    elif i <= 26:\n",
    "        card_shape = \"하트\"\n",
    "    elif i <= 39:\n",
    "        card_shape = \"다이아몬드\"\n",
    "    else:\n",
    "        card_shape = \"클로버\"\n",
    "    print(i, card_shape, card_num[i%13])"
   ]
  },
  {
   "cell_type": "code",
   "execution_count": null,
   "metadata": {},
   "outputs": [],
   "source": []
  }
 ],
 "metadata": {
  "kernelspec": {
   "display_name": "py37",
   "language": "python",
   "name": "python37"
  },
  "language_info": {
   "codemirror_mode": {
    "name": "ipython",
    "version": 3
   },
   "file_extension": ".py",
   "mimetype": "text/x-python",
   "name": "python",
   "nbconvert_exporter": "python",
   "pygments_lexer": "ipython3",
   "version": "3.7.0"
  }
 },
 "nbformat": 4,
 "nbformat_minor": 4
}
