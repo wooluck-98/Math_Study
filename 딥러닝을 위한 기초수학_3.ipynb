{
 "cells": [
  {
   "cell_type": "code",
   "execution_count": 3,
   "metadata": {},
   "outputs": [
    {
     "name": "stdout",
     "output_type": "stream",
     "text": [
      "[2 1]\n",
      "[3 2 1]\n",
      "[[2 4 1]\n",
      " [6 3 5]]\n"
     ]
    }
   ],
   "source": [
    "import numpy as np\n",
    "\n",
    "a = np.array([2, 1])\n",
    "print(a)\n",
    "\n",
    "b = np.array([3, 2, 1])\n",
    "print(b)\n",
    "\n",
    "A = np.array([[2, 4, 1], [6, 3, 5]])\n",
    "print(A)\n"
   ]
  },
  {
   "cell_type": "code",
   "execution_count": 5,
   "metadata": {},
   "outputs": [
    {
     "name": "stdout",
     "output_type": "stream",
     "text": [
      "tf.Tensor([2 1], shape=(2,), dtype=int32)\n",
      "tf.Tensor([3 2 1], shape=(3,), dtype=int32)\n",
      "tf.Tensor(\n",
      "[[2 4 1]\n",
      " [6 3 5]], shape=(2, 3), dtype=int32)\n"
     ]
    }
   ],
   "source": [
    "import tensorflow as tf\n",
    "\n",
    "a = tf.constant([2, 1])\n",
    "print(a)\n",
    "\n",
    "b = tf.constant([3, 2, 1])\n",
    "print(b)\n",
    "\n",
    "A = tf.constant([[2, 4, 1], [6, 3, 5]])\n",
    "print(A)"
   ]
  },
  {
   "cell_type": "code",
   "execution_count": 6,
   "metadata": {},
   "outputs": [
    {
     "name": "stdout",
     "output_type": "stream",
     "text": [
      "[4 6]\n",
      "[ 2 -2]\n",
      "3.605551275463989\n",
      "4.123105625617661\n",
      "함수를 사용한 벡터의 크기 : 3.605551275463989\n",
      "함수를 사용한 벡터의 크기 : 4.123105625617661\n"
     ]
    }
   ],
   "source": [
    "import numpy as np\n",
    "import math\n",
    "\n",
    "a = np.array([3, 2])\n",
    "b = np.array([1, 4])\n",
    "\n",
    "print(a + b)\n",
    "print(a - b)\n",
    "print(np.linalg.norm(a))\n",
    "print(np.linalg.norm(b))\n",
    "\n",
    "def norm(x):\n",
    "    return math.sqrt(sum([i ** 2 for i in x]))\n",
    "\n",
    "print(\"함수를 사용한 벡터의 크기 :\", norm(a))\n",
    "print(\"함수를 사용한 벡터의 크기 :\", norm(b))"
   ]
  },
  {
   "cell_type": "code",
   "execution_count": 9,
   "metadata": {},
   "outputs": [
    {
     "name": "stdout",
     "output_type": "stream",
     "text": [
      "11\n",
      "11\n",
      "0\n"
     ]
    }
   ],
   "source": [
    "import numpy as np\n",
    "\n",
    "a = np.array([3, 2])\n",
    "b = np.array([1, 4])\n",
    "ans = 0\n",
    "for i in range(2):\n",
    "    ans += a[i] * b[i]\n",
    "\n",
    "print(ans)\n",
    "\n",
    "c = np.array([2, 1])\n",
    "d = np.array([-1, 2])\n",
    "\n",
    "print(c.dot(d))"
   ]
  },
  {
   "cell_type": "code",
   "execution_count": 11,
   "metadata": {},
   "outputs": [
    {
     "name": "stdout",
     "output_type": "stream",
     "text": [
      "[[ 4  6  8]\n",
      " [ 7  9 11]]\n",
      "[[-2 -2 -2]\n",
      " [-1 -1 -1]]\n"
     ]
    }
   ],
   "source": [
    "import numpy as np\n",
    "\n",
    "X = np.array([[1, 2, 3], [3, 4, 5]])\n",
    "Y = np.array([[3, 4, 5], [4, 5, 6]])\n",
    "\n",
    "print(X + Y)\n",
    "print(X - Y)"
   ]
  },
  {
   "cell_type": "code",
   "execution_count": 13,
   "metadata": {},
   "outputs": [
    {
     "name": "stdout",
     "output_type": "stream",
     "text": [
      "[[26 32]\n",
      " [50 62]]\n",
      "[[26 32]\n",
      " [50 62]]\n",
      "[[26 32]\n",
      " [50 62]]\n"
     ]
    }
   ],
   "source": [
    "import numpy as np\n",
    "\n",
    "A = np.array([[1, 2, 3], [3, 4, 5]])\n",
    "B = np.array([[3, 4], [4, 5], [5, 6]])\n",
    "\n",
    "print(A.dot(B))\n",
    "\n",
    "C = np.matrix([[1, 2, 3], [3, 4, 5]])\n",
    "D = np.matrix([[3, 4], [4, 5], [5, 6]])\n",
    "\n",
    "print(C * D)\n",
    "print(A @ B)"
   ]
  },
  {
   "cell_type": "code",
   "execution_count": 14,
   "metadata": {},
   "outputs": [
    {
     "name": "stdout",
     "output_type": "stream",
     "text": [
      "[[ 3. -5.]\n",
      " [-1.  2.]]\n"
     ]
    }
   ],
   "source": [
    "import numpy as np\n",
    "\n",
    "A = np.array([[2, 5], [1, 3]])\n",
    "print(np.linalg.inv(A))"
   ]
  },
  {
   "cell_type": "code",
   "execution_count": 15,
   "metadata": {},
   "outputs": [
    {
     "name": "stdout",
     "output_type": "stream",
     "text": [
      "1.0\n",
      "-13.0\n"
     ]
    }
   ],
   "source": [
    "import numpy as np\n",
    "\n",
    "A = np.array([[2, 5], [1, 3]])\n",
    "print(np.linalg.det(A))\n",
    "\n",
    "B = np.array([[1, 4, 2], [3, -1, -2], [-3, 1, 3]])\n",
    "print(np.linalg.det(B))"
   ]
  },
  {
   "cell_type": "code",
   "execution_count": 17,
   "metadata": {},
   "outputs": [
    {
     "name": "stdout",
     "output_type": "stream",
     "text": [
      "[2. 1.]\n"
     ]
    }
   ],
   "source": [
    "import numpy as np\n",
    "\n",
    "A = np.array([[2, 3], [-1, 4]])\n",
    "B = np.array([7, 2])\n",
    "\n",
    "print(np.linalg.inv(A) @ B)"
   ]
  },
  {
   "cell_type": "code",
   "execution_count": 23,
   "metadata": {},
   "outputs": [
    {
     "name": "stdout",
     "output_type": "stream",
     "text": [
      "[[ 0.2173913   0.08695652]\n",
      " [-0.17391304  0.13043478]]\n",
      "[[-0.06382979  0.08510638  0.61702128]\n",
      " [-0.12765957  0.17021277  0.23404255]\n",
      " [ 0.17021277  0.10638298  0.0212766 ]]\n",
      "[[-0.5      2.75     2.75     1.25   ]\n",
      " [ 0.1875  -0.09375 -0.21875 -0.15625]\n",
      " [-0.6875   3.34375  3.46875  1.90625]\n",
      " [-0.3125   1.15625  1.03125  0.59375]]\n"
     ]
    }
   ],
   "source": [
    "# 연습 문제 5-1\n",
    "import numpy as np\n",
    "\n",
    "A = np.array([[3, -2], [4, 5]])\n",
    "print(np.linalg.inv(A))\n",
    "\n",
    "B = np.array([[1, -3, 4], [-2, 5, 3], [2, -1, 0]])\n",
    "print(np.linalg.inv(B))\n",
    "\n",
    "C = np.array([[-1, 5, 2, -3], [0, 3, -1, 4], [2, -3, 0, -5], [-4, 2, 3, 1]])\n",
    "print(np.linalg.inv(C))"
   ]
  },
  {
   "cell_type": "code",
   "execution_count": 27,
   "metadata": {},
   "outputs": [
    {
     "name": "stdout",
     "output_type": "stream",
     "text": [
      "[[ 2.25        0.32142857 -1.57142857]\n",
      " [ 0.          1.28571429  1.71428571]\n",
      " [-1.125       1.76785714  1.35714286]]\n",
      "\n",
      "[[ 0.27722772 -2.5029703   4.1960396  -2.97029703]\n",
      " [ 0.63366337  3.42178218  2.16237624 -3.21782178]\n",
      " [ 1.06930693 -1.42574257 -0.9009901  -0.74257426]\n",
      " [ 0.51485149 -2.81980198  1.10693069  5.1980198 ]]\n"
     ]
    }
   ],
   "source": [
    "# 연습문제 6\n",
    "import numpy as np\n",
    "\n",
    "A = np.array([[2, 5, -4], [3, -2, 6], [-1, 3, -2]])\n",
    "X = np.array([9, 9, 4])\n",
    "print(np.linalg.inv(A) * X, end=\"\\n\\n\")\n",
    "\n",
    "B = np.array([[-1, 3, 5, 2], [4, -6, 3, -1], [3, 3, -4, 3], [2, -1, 2, -4]])\n",
    "Y = np.array([8, -32, 26, -25])\n",
    "print(np.linalg.inv(B) * Y)"
   ]
  },
  {
   "cell_type": "code",
   "execution_count": null,
   "metadata": {},
   "outputs": [],
   "source": []
  }
 ],
 "metadata": {
  "kernelspec": {
   "display_name": "Python 3",
   "language": "python",
   "name": "python3"
  },
  "language_info": {
   "codemirror_mode": {
    "name": "ipython",
    "version": 3
   },
   "file_extension": ".py",
   "mimetype": "text/x-python",
   "name": "python",
   "nbconvert_exporter": "python",
   "pygments_lexer": "ipython3",
   "version": "3.8.5"
  }
 },
 "nbformat": 4,
 "nbformat_minor": 4
}
