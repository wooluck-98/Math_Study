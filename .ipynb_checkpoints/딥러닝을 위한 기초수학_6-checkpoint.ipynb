{
 "cells": [
  {
   "cell_type": "code",
   "execution_count": 1,
   "metadata": {},
   "outputs": [
    {
     "name": "stdout",
     "output_type": "stream",
     "text": [
      "[[4, 7, 7, 4], [1, 5, 10, 9], [2, 6, 12, 10], [7, 10, 12, 8]]\n"
     ]
    }
   ],
   "source": [
    "# 넘파이로 합성곱층의 순전파를 계산\n",
    "import numpy as np\n",
    "\n",
    "# 입력 데이터\n",
    "x = np.array([[0, 1, 2, 1, 0, 0], [0, 0, 1, 2, 1, 0], [0, 0, 0, 1, 2, 1],\n",
    "             [0, 0, 0, 1, 3, 2], [1, 1, 1, 3, 2, 0], [2, 2, 3, 2, 1, 0]])\n",
    "\n",
    "# 필터\n",
    "f = np.array([[0, 1, 1], [0, 1, 1], [0, 1, 1]])\n",
    "\n",
    "result = []\n",
    "for i in range(len(x) - len(f) + 1):\n",
    "    row = []\n",
    "    for j in range(len(x[0]) - len(f[0]) + 1):\n",
    "        row.append(np.sum(x[i : i + len(f), j : j + len(f[0])] * f))\n",
    "    result.append(row)\n",
    "print(result)"
   ]
  },
  {
   "cell_type": "code",
   "execution_count": 2,
   "metadata": {},
   "outputs": [
    {
     "name": "stdout",
     "output_type": "stream",
     "text": [
      "[[ 4  7  7  4]\n",
      " [ 1  5 10  9]\n",
      " [ 2  6 12 10]\n",
      " [ 7 10 12  8]]\n"
     ]
    }
   ],
   "source": [
    "# 사이파이로 합성곱층의 순전파 계산\n",
    "from scipy import signal\n",
    "\n",
    "x = [[0, 1, 2, 1, 0, 0], [0, 0, 1, 2, 1, 0], [0, 0, 0, 1, 2, 1],\n",
    "    [0, 0, 0, 1, 3, 2], [1, 1, 1, 3, 2, 0], [2, 2, 3, 2, 1, 0]]\n",
    "\n",
    "f = [[0, 1, 1], [0, 1, 1], [0, 1, 1]]\n",
    "\n",
    "print(signal.correlate(x, f, 'valid'))"
   ]
  },
  {
   "cell_type": "code",
   "execution_count": 3,
   "metadata": {},
   "outputs": [
    {
     "name": "stdout",
     "output_type": "stream",
     "text": [
      "[[0, 2, 0], [1, 2, 0], [2, 3, 1]]\n"
     ]
    }
   ],
   "source": [
    "# 넘파이로 풀링층의 순전파를 계산\n",
    "import numpy as np\n",
    "\n",
    "# 입력 데이터\n",
    "x = np.array([[0, 0, 1, 0, 0, 0], [0, 0, 2, 0, 0, 0], [0, 1, 2, 1, 0, 0],\n",
    "             [0, 1, 2, 1, 0, 0], [1, 2, 2, 2, 1, 0], [1, 2, 3, 2, 1, 0]])\n",
    "\n",
    "result = []\n",
    "for i in range(0, len(x), 2):\n",
    "    row = []\n",
    "    for j in range(0, len(x[0]), 2):\n",
    "        row.append(np.max(x[i : i+2, j : j+2]))\n",
    "    result.append(row)\n",
    "print(result)"
   ]
  },
  {
   "cell_type": "code",
   "execution_count": 13,
   "metadata": {},
   "outputs": [
    {
     "name": "stdout",
     "output_type": "stream",
     "text": [
      "[[[253 219 218]\n",
      "  [253 219 218]\n",
      "  [253 219 218]\n",
      "  ...\n",
      "  [253 219 218]\n",
      "  [253 219 218]\n",
      "  [253 219 218]]\n",
      "\n",
      " [[253 219 218]\n",
      "  [253 219 218]\n",
      "  [253 219 218]\n",
      "  ...\n",
      "  [253 219 218]\n",
      "  [253 219 218]\n",
      "  [253 219 218]]\n",
      "\n",
      " [[253 219 218]\n",
      "  [253 219 218]\n",
      "  [253 219 218]\n",
      "  ...\n",
      "  [253 219 218]\n",
      "  [253 219 218]\n",
      "  [253 219 218]]\n",
      "\n",
      " ...\n",
      "\n",
      " [[253 219 218]\n",
      "  [253 219 218]\n",
      "  [253 219 218]\n",
      "  ...\n",
      "  [253 219 218]\n",
      "  [253 219 218]\n",
      "  [253 219 218]]\n",
      "\n",
      " [[253 219 218]\n",
      "  [253 219 218]\n",
      "  [253 219 218]\n",
      "  ...\n",
      "  [253 219 218]\n",
      "  [253 219 218]\n",
      "  [253 219 218]]\n",
      "\n",
      " [[253 219 218]\n",
      "  [253 219 218]\n",
      "  [253 219 218]\n",
      "  ...\n",
      "  [253 219 218]\n",
      "  [253 219 218]\n",
      "  [253 219 218]]]\n"
     ]
    }
   ],
   "source": [
    "# 이미지 처리\n",
    "from PIL import Image\n",
    "import numpy as np\n",
    "\n",
    "img = Image.open(\"images/01.jpg\")\n",
    "array = np.array(img)\n",
    "\n",
    "print(array)\n",
    "\n",
    "img.convert(\"L\").save(\"images/black_img.jpg\")\n",
    "img.rotate(90).save(\"images/rotate_img.jpg\")"
   ]
  },
  {
   "cell_type": "code",
   "execution_count": null,
   "metadata": {},
   "outputs": [],
   "source": []
  }
 ],
 "metadata": {
  "kernelspec": {
   "display_name": "Python 3",
   "language": "python",
   "name": "python3"
  },
  "language_info": {
   "codemirror_mode": {
    "name": "ipython",
    "version": 3
   },
   "file_extension": ".py",
   "mimetype": "text/x-python",
   "name": "python",
   "nbconvert_exporter": "python",
   "pygments_lexer": "ipython3",
   "version": "3.8.5"
  }
 },
 "nbformat": 4,
 "nbformat_minor": 4
}
