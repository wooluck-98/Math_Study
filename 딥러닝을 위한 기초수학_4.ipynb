{
 "cells": [
  {
   "cell_type": "code",
   "execution_count": 2,
   "metadata": {},
   "outputs": [
    {
     "name": "stdout",
     "output_type": "stream",
     "text": [
      "-3\n",
      "3\n"
     ]
    }
   ],
   "source": [
    "def func(x):\n",
    "    return 2 * x + 1\n",
    "\n",
    "print(func(-2))\n",
    "print(func(1))"
   ]
  },
  {
   "cell_type": "code",
   "execution_count": 3,
   "metadata": {},
   "outputs": [
    {
     "name": "stdout",
     "output_type": "stream",
     "text": [
      "[1, 1.0, 3.0]\n",
      "[0.1, 0.10000000000000002, 2.100000000000002]\n",
      "[0.01, 0.01, 2.0100000000000007]\n",
      "[0.001, 0.001, 2.0009999999996975]\n"
     ]
    }
   ],
   "source": [
    "def f(x):\n",
    "    return x ** 2\n",
    "\n",
    "# 미분\n",
    "def df(x, h):\n",
    "    return (f(x + h) - f(x)) / h\n",
    "\n",
    "# h값을 0에 가깝게 변화시켜 x = 0일 때와 1일 때의 미분계수 계산\n",
    "for h in [1, 1e-1, 1e-2, 1e-3]:\n",
    "    print([h, df(0, h), df(1, h)])"
   ]
  },
  {
   "cell_type": "code",
   "execution_count": 4,
   "metadata": {},
   "outputs": [
    {
     "name": "stdout",
     "output_type": "stream",
     "text": [
      "0.25\n"
     ]
    }
   ],
   "source": [
    "import numpy as np\n",
    "\n",
    "def sigmoid(x):\n",
    "    return 1.0 / (1.0 + np.exp(-x))\n",
    "\n",
    "def sigmoid_derivative(x):\n",
    "    return sigmoid(x) * (1 - sigmoid(x))\n",
    "\n",
    "print(sigmoid_derivative(0))"
   ]
  },
  {
   "cell_type": "code",
   "execution_count": 5,
   "metadata": {},
   "outputs": [
    {
     "name": "stdout",
     "output_type": "stream",
     "text": [
      "164\n",
      "104.96000000000001\n",
      "67.1744\n",
      "42.991616\n",
      "27.51463424\n",
      "17.6093659136\n",
      "11.269994184704004\n",
      "7.212796278210563\n",
      "4.616189618054761\n",
      "2.9543613555550463\n",
      "1.89079126755523\n",
      "1.2101064112353472\n",
      "0.7744681031906222\n",
      "0.4956595860419981\n",
      "0.3172221350668788\n",
      "0.2030221664428024\n",
      "0.12993418652339353\n",
      "0.08315787937497186\n",
      "0.053221042799981993\n",
      "0.034061467391988474\n",
      "0.021799339130872626\n",
      "0.01395157704375848\n",
      "0.008929009308005427\n",
      "0.005714565957123473\n",
      "0.003657322212559023\n",
      "0.002340686216037775\n",
      "0.001498039178264176\n",
      "0.0009587450740890728\n",
      "0.0006135968474170066\n",
      "0.00039270198234688414\n",
      "0.00025132926870200586\n"
     ]
    }
   ],
   "source": [
    "# 경사하강법 구현\n",
    "def f(x, y):\n",
    "    return x * x + y * y\n",
    "\n",
    "def dfx(x, y):\n",
    "    return 2 * x\n",
    "def dfy(x, y):\n",
    "    return 2 * y\n",
    "# 학습률\n",
    "eta = 0.1\n",
    "x, y = 10, 8\n",
    "print(f(x, y))\n",
    "\n",
    "for i in range(0, 30):\n",
    "    x += -eta * dfx(x, y)\n",
    "    y += -eta * dfy(x, y)\n",
    "    print(f(x, y))"
   ]
  },
  {
   "cell_type": "code",
   "execution_count": null,
   "metadata": {},
   "outputs": [],
   "source": []
  }
 ],
 "metadata": {
  "kernelspec": {
   "display_name": "Python 3",
   "language": "python",
   "name": "python3"
  },
  "language_info": {
   "codemirror_mode": {
    "name": "ipython",
    "version": 3
   },
   "file_extension": ".py",
   "mimetype": "text/x-python",
   "name": "python",
   "nbconvert_exporter": "python",
   "pygments_lexer": "ipython3",
   "version": "3.8.5"
  }
 },
 "nbformat": 4,
 "nbformat_minor": 4
}
